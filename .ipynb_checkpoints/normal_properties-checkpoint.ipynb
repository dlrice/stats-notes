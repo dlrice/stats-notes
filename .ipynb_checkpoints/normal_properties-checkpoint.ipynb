{
 "cells": [
  {
   "cell_type": "markdown",
   "metadata": {},
   "source": [
    "# Proving some normal distribution properties\n",
    "In order to prove the linear transformation and summation properties of the normal distribution, we will make use of the <a href=\"https://en.wikipedia.org/wiki/Expected_value\">expected value</a> function which has the following properties:\n",
    "\n",
    "\\begin{equation}\n",
    "\\begin{split}\n",
    "\\mathbb{E}[X + c] &=   \\mathbb{E}[X] + c \\\\\n",
    "\\mathbb{E}[X + Y] &=   \\mathbb{E}[X] + \\mathbb{E}[Y] \\\\\n",
    "\\mathbb{E}[aX]    &= a \\mathbb{E}[X]\n",
    "\\end{split}\n",
    "\\end{equation}"
   ]
  },
  {
   "cell_type": "markdown",
   "metadata": {},
   "source": [
    "## Linear transformation\n",
    "\n",
    "Let $x \\sim \\mathcal{N}(\\mu, \\sigma^2)$ then it follows that\n",
    "\\begin{equation}\n",
    "\\begin{split}\n",
    "mean(x) & = \\mathbb{E}[x] \\\\\n",
    "&= \\mu \\\\\n",
    "var(x) & = \\mathbb{E}[x^2] - \\mathbb{E}[x]^2 \\\\\n",
    "&= \\sigma^2 \\\\\n",
    "\\end{split}\n",
    "\\end{equation}\n",
    "\n",
    "Let $a,b \\in \\mathbb{R}$ then it follows that\n",
    "\n",
    "\\begin{equation}\n",
    "\\begin{split}\n",
    "mean(ax+b) & = \\mathbb{E}[ax + b] \\\\\n",
    "& = a\\mathbb{E}[x] + b \\\\\n",
    "& = a\\mu + b \\\\\n",
    "var(ax + b) & = \\mathbb{E}[(ax + b)^2] - \\mathbb{E}[ax + b]^2 \\\\\n",
    "& = \\mathbb{E}[a^2x^2 + 2axb + b^2] - \\mathbb{E}[ax + b]^2 \\\\\n",
    "& = a^2\\mathbb{E}[x^2] + 2ab\\mathbb{E}[x] + b^2 - (a\\mathbb{E}[x] + b)^2 \\\\\n",
    "& = a^2\\mathbb{E}[x^2] + 2ab\\mathbb{E}[x] + b^2 - a^2\\mathbb{E}[x]^2 - 2ab\\mathbb{E}[x] - b^2 \\\\\n",
    "& = a^2\\mathbb{E}[x^2] - a^2\\mathbb{E}[x]^2 \\\\\n",
    "& = a^2(\\mathbb{E}[x^2] - \\mathbb{E}[x]^2) \\\\\n",
    "& = a^2\\sigma^2 \\\\\n",
    "\\end{split}\n",
    "\\end{equation}"
   ]
  },
  {
   "cell_type": "markdown",
   "metadata": {},
   "source": [
    "## Sum of two normal random variables\n",
    "Let $x \\sim \\mathcal{N}(\\mu_x, \\sigma_x^2)$ and $y \\sim \\mathcal{N}(\\mu_y, \\sigma_y^2)$ then it follows that\n",
    "\\begin{equation}\n",
    "\\begin{split}\n",
    "mean(x) & = \\mu_x \\\\\n",
    "mean(y) & = \\mu_y \\\\\n",
    "var(x) & = \\sigma_x^2 \\\\\n",
    "var(y) & = \\sigma_y^2 \\\\\n",
    "\\end{split}\n",
    "\\end{equation}\n",
    "Consider now the sum of these two random variables, the mean and variance of this sum are:\n",
    "\\begin{equation}\n",
    "\\begin{split}\n",
    "mean(x + y) & = \\mathbb{E}[x + y] \\\\\n",
    "& = \\mathbb{E}[x] + \\mathbb{E}[y] \\\\\n",
    "& = \\mu_x + \\mu_y \\\\\n",
    "var(x + y) & = \\mathbb{E}[(x + y)^2] - \\mathbb{E}[x + y]^2 \\\\\n",
    "& = \\mathbb{E}[x^2 + 2xy + y^2] - \\mathbb{E}[x + y]^2 \\\\\n",
    "& = \\mathbb{E}[x^2 + 2xy + y^2] - (\\mathbb{E}[x] + \\mathbb{E}[y])^2 \\\\\n",
    "& = \\mathbb{E}[x^2 + 2xy + y^2] - (\\mathbb{E}[x]^2 + 2\\mathbb{E}[x]\\mathbb{E}[y] + \\mathbb{E}[y]^2) \\\\\n",
    "& = \\mathbb{E}[x^2] + 2\\mathbb{E}[x]\\mathbb{E}[y] + \\mathbb{E}[y^2] - \\mathbb{E}[x]^2 - 2\\mathbb{E}[x]\\mathbb{E}[y] - \\mathbb{E}[y]^2 \\\\\n",
    "& = \\mathbb{E}[x^2] - \\mathbb{E}[x]^2 + \\mathbb{E}[y^2] - \\mathbb{E}[y]^2 \\\\\n",
    "& = \\sigma_x^2 + \\sigma_y^2\n",
    "\\end{split}\n",
    "\\end{equation}"
   ]
  },
  {
   "cell_type": "code",
   "execution_count": null,
   "metadata": {
    "collapsed": true
   },
   "outputs": [],
   "source": []
  }
 ],
 "metadata": {
  "kernelspec": {
   "display_name": "Python 2",
   "language": "python",
   "name": "python2"
  },
  "language_info": {
   "codemirror_mode": {
    "name": "ipython",
    "version": 2
   },
   "file_extension": ".py",
   "mimetype": "text/x-python",
   "name": "python",
   "nbconvert_exporter": "python",
   "pygments_lexer": "ipython2",
   "version": "2.7.10"
  }
 },
 "nbformat": 4,
 "nbformat_minor": 0
}
